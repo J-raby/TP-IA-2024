{
 "cells": [
  {
   "cell_type": "code",
   "execution_count": null,
   "metadata": {},
   "outputs": [],
   "source": [
    "import math\n",
    "import random\n",
    "import time"
   ]
  },
  {
   "cell_type": "code",
   "execution_count": null,
   "metadata": {},
   "outputs": [],
   "source": [
    "MIN_X = -2\n",
    "MAX_X = 2"
   ]
  },
  {
   "cell_type": "code",
   "execution_count": null,
   "metadata": {},
   "outputs": [],
   "source": [
    "#Para generar poblacion\n",
    "def generate_poblacion(tam, restriccion_x, restriccion_y):\n",
    "  poblacion = []\n",
    "  for i in range(tam):\n",
    "    individuo = {\n",
    "      'x': random.uniform(restriccion_x[0], restriccion_x[1]),\n",
    "      'y': random.uniform(restriccion_y[0], restriccion_y[1])\n",
    "    }\n",
    "    poblacion.append(individuo)\n",
    "  \n",
    "  return poblacion\n"
   ]
  },
  {
   "cell_type": "code",
   "execution_count": null,
   "metadata": {},
   "outputs": [],
   "source": [
    "#Para dar valor a individuo\n",
    "# f(x, y) = 2 + sqrt(9 - x^2 - y^2)\n",
    "def funcion_aptitud(ind):\n",
    "  x = ind['x']\n",
    "  y = ind['y']\n",
    "  #Para que nos de valores positivos, x**2 e y**2 < 9\n",
    "  res = math.sqrt(9 - (x**2) - (y**2))\n",
    "  return (2 + res)\n",
    "\n",
    "#Para ordenar \n",
    "def sort_by_fitness(poblacion):\n",
    "  return sorted(poblacion, key=funcion_aptitud, reverse=True)\n",
    "\n",
    "#Para cruzar\n",
    "def cruzar(ind1, ind2):\n",
    "  cruce_punto = random.randint(0,1)\n",
    "\n",
    "  hijo = {\n",
    "    'x': ind1['x'] if cruce_punto == 0 else ind2['x'],\n",
    "    'y': ind1['y'] if cruce_punto == 0 else ind2['y']\n",
    "  }\n",
    "\n",
    "  return hijo\n",
    "\n",
    "#Para mutar\n",
    "def mutar(individuo):\n",
    "  prox_x = individuo[\"x\"] + random.uniform(-0.1, 0.1)\n",
    "  prox_y = individuo[\"y\"] + random.uniform(-0.1, 0.1)\n",
    "  \n",
    "  prox_x = min(max(prox_x, MIN_X), MAX_X)\n",
    "  prox_y = min(max(prox_y, MIN_X), MAX_X)\n",
    "\n",
    "  return {\"x\": prox_x, \"y\": prox_y}\n"
   ]
  },
  {
   "cell_type": "code",
   "execution_count": null,
   "metadata": {},
   "outputs": [],
   "source": [
    "def tournament_selection(poblacion, tournament_size):\n",
    "    winner_index = None\n",
    "    tournament = random.sample(poblacion, tournament_size)\n",
    "    aptitudes = [funcion_aptitud(individuo) for individuo in tournament]\n",
    "    winner_index = aptitudes.index(max(aptitudes))\n",
    "    return tournament[winner_index]"
   ]
  },
  {
   "cell_type": "code",
   "execution_count": null,
   "metadata": {},
   "outputs": [],
   "source": [
    "#Para generar nueva gen\n",
    "def generar_nueva_gen(prev_poblacion):\n",
    "  prox_gen = []\n",
    "  sorted_poblacion = sort_by_fitness(prev_poblacion)\n",
    "  tam = len(prev_poblacion)\n",
    " \n",
    "  for i in range(tam):\n",
    "    #Seleccionamos dos individuos de entre los mas aptos\n",
    "    padre = tournament_selection(sorted_poblacion, math.floor(tam * 0.5))\n",
    "    madre = tournament_selection(sorted_poblacion, math.floor(tam * 0.5))\n",
    "    #Los cruzamos y mutamos al resultante\n",
    "    hijo = cruzar(madre, padre)\n",
    "    hijo = mutar(hijo)\n",
    "\n",
    "    prox_gen.append(hijo)\n",
    "  \n",
    "  return prox_gen"
   ]
  },
  {
   "cell_type": "code",
   "execution_count": null,
   "metadata": {},
   "outputs": [],
   "source": [
    "#Poblacion\n",
    "pob = generate_poblacion(10, restriccion_x=(MIN_X,MAX_X), restriccion_y=(MIN_X,MAX_X))\n",
    "i = 1\n",
    "while True:\n",
    "  print(f\"GENERATION {i}\")\n",
    "  for ind in pob:\n",
    "    print(\"Individuo: \", ind, \"Fitness: \", funcion_aptitud(ind))\n",
    "  #Que llegue hasta 0.1 el resultado\n",
    "  if i == 100:\n",
    "    break\n",
    "  i+=1\n",
    "\n",
    "  pob = generar_nueva_gen(pob)\n",
    "\n",
    "best_individual = sort_by_fitness(pob)[0]\n",
    "print(\"\\nFINAL RESULT\")\n",
    "print(best_individual, funcion_aptitud(best_individual))"
   ]
  }
 ],
 "metadata": {
  "language_info": {
   "name": "python"
  }
 },
 "nbformat": 4,
 "nbformat_minor": 2
}
