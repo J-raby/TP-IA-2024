{
 "cells": [
  {
   "cell_type": "code",
   "execution_count": 1,
   "metadata": {},
   "outputs": [
    {
     "name": "stdout",
     "output_type": "stream",
     "text": [
      "Requirement already satisfied: scikit-learn in /home/jraby/Faculad/4to/inteli_artificial/Tps/Tp3/.venv/lib/python3.10/site-packages (1.5.0)\n",
      "Requirement already satisfied: numpy>=1.19.5 in /home/jraby/Faculad/4to/inteli_artificial/Tps/Tp3/.venv/lib/python3.10/site-packages (from scikit-learn) (1.26.4)\n",
      "Requirement already satisfied: scipy>=1.6.0 in /home/jraby/Faculad/4to/inteli_artificial/Tps/Tp3/.venv/lib/python3.10/site-packages (from scikit-learn) (1.13.0)\n",
      "Requirement already satisfied: joblib>=1.2.0 in /home/jraby/Faculad/4to/inteli_artificial/Tps/Tp3/.venv/lib/python3.10/site-packages (from scikit-learn) (1.4.2)\n",
      "Requirement already satisfied: threadpoolctl>=3.1.0 in /home/jraby/Faculad/4to/inteli_artificial/Tps/Tp3/.venv/lib/python3.10/site-packages (from scikit-learn) (3.5.0)\n",
      "Note: you may need to restart the kernel to use updated packages.\n",
      "Requirement already satisfied: pandas in /home/jraby/Faculad/4to/inteli_artificial/Tps/Tp3/.venv/lib/python3.10/site-packages (2.2.2)\n",
      "Requirement already satisfied: numpy>=1.22.4 in /home/jraby/Faculad/4to/inteli_artificial/Tps/Tp3/.venv/lib/python3.10/site-packages (from pandas) (1.26.4)\n",
      "Requirement already satisfied: python-dateutil>=2.8.2 in /home/jraby/Faculad/4to/inteli_artificial/Tps/Tp3/.venv/lib/python3.10/site-packages (from pandas) (2.9.0.post0)\n",
      "Requirement already satisfied: pytz>=2020.1 in /home/jraby/Faculad/4to/inteli_artificial/Tps/Tp3/.venv/lib/python3.10/site-packages (from pandas) (2024.1)\n",
      "Requirement already satisfied: tzdata>=2022.7 in /home/jraby/Faculad/4to/inteli_artificial/Tps/Tp3/.venv/lib/python3.10/site-packages (from pandas) (2024.1)\n",
      "Requirement already satisfied: six>=1.5 in /home/jraby/Faculad/4to/inteli_artificial/Tps/Tp3/.venv/lib/python3.10/site-packages (from python-dateutil>=2.8.2->pandas) (1.16.0)\n",
      "Note: you may need to restart the kernel to use updated packages.\n",
      "Requirement already satisfied: sklearn-genetic in /home/jraby/Faculad/4to/inteli_artificial/Tps/Tp3/.venv/lib/python3.10/site-packages (0.6.0)\n",
      "Requirement already satisfied: scikit-learn>=1.0 in /home/jraby/Faculad/4to/inteli_artificial/Tps/Tp3/.venv/lib/python3.10/site-packages (from sklearn-genetic) (1.5.0)\n",
      "Requirement already satisfied: deap>=1.0.2 in /home/jraby/Faculad/4to/inteli_artificial/Tps/Tp3/.venv/lib/python3.10/site-packages (from sklearn-genetic) (1.4.1)\n",
      "Requirement already satisfied: numpy in /home/jraby/Faculad/4to/inteli_artificial/Tps/Tp3/.venv/lib/python3.10/site-packages (from sklearn-genetic) (1.26.4)\n",
      "Requirement already satisfied: multiprocess in /home/jraby/Faculad/4to/inteli_artificial/Tps/Tp3/.venv/lib/python3.10/site-packages (from sklearn-genetic) (0.70.16)\n",
      "Requirement already satisfied: scipy>=1.6.0 in /home/jraby/Faculad/4to/inteli_artificial/Tps/Tp3/.venv/lib/python3.10/site-packages (from scikit-learn>=1.0->sklearn-genetic) (1.13.0)\n",
      "Requirement already satisfied: joblib>=1.2.0 in /home/jraby/Faculad/4to/inteli_artificial/Tps/Tp3/.venv/lib/python3.10/site-packages (from scikit-learn>=1.0->sklearn-genetic) (1.4.2)\n",
      "Requirement already satisfied: threadpoolctl>=3.1.0 in /home/jraby/Faculad/4to/inteli_artificial/Tps/Tp3/.venv/lib/python3.10/site-packages (from scikit-learn>=1.0->sklearn-genetic) (3.5.0)\n",
      "Requirement already satisfied: dill>=0.3.8 in /home/jraby/Faculad/4to/inteli_artificial/Tps/Tp3/.venv/lib/python3.10/site-packages (from multiprocess->sklearn-genetic) (0.3.8)\n",
      "Note: you may need to restart the kernel to use updated packages.\n"
     ]
    }
   ],
   "source": [
    "%pip install scikit-learn\n",
    "%pip install pandas\n",
    "%pip install sklearn-genetic"
   ]
  },
  {
   "cell_type": "code",
   "execution_count": 2,
   "metadata": {},
   "outputs": [],
   "source": [
    "from  sklearn.datasets import load_wine\n",
    "from genetic_selection import GeneticSelectionCV # type: ignore\n",
    "from sklearn.tree import DecisionTreeClassifier # type: ignore\n",
    "import pandas as pd # type: ignore\n",
    "import numpy as np"
   ]
  },
  {
   "cell_type": "code",
   "execution_count": 5,
   "metadata": {},
   "outputs": [
    {
     "name": "stdout",
     "output_type": "stream",
     "text": [
      "Selecting features with genetic algorithm.\n",
      "gen\tnevals\tavg                            \tstd                            \tmin                            \tmax                            \n",
      "0  \t100   \t[ 0.706428  2.4       0.060959]\t[ 0.131471  1.104536  0.026971]\t[ 0.393056  1.        0.018589]\t[ 0.938763  4.        0.137575]\n",
      "1  \t65    \t[-1199.317662     3.04      1200.052404]\t[ 3249.867334     1.310878  3249.59601 ]\t[-10000.            0.            0.018194]\t[     0.938763      6.        10000.      ]\n",
      "2  \t65    \t[-1599.293417     3.52      1600.048652]\t[ 3666.368935     1.099818  3666.039323]\t[-10000.            1.            0.018194]\t[     0.938763      7.        10000.      ]\n",
      "3  \t67    \t[-1099.230385     3.48      1100.050818]\t[ 3129.168137     1.043839  3128.879704]\t[-10000.            1.            0.018194]\t[     0.938763      7.        10000.      ]\n",
      "4  \t69    \t[-1099.207246     3.56      1100.047011]\t[ 3129.176272     0.95205   3128.881042]\t[-10000.            1.            0.023509]\t[     0.949874      6.        10000.      ]\n",
      "5  \t65    \t[-999.172273    3.63     1000.044256]   \t[ 3000.275909     0.702211  2999.985248]\t[-10000.            2.            0.023846]\t[     0.949874      5.        10000.      ]\n",
      "6  \t60    \t[-699.137567    3.51      700.04671 ]   \t[ 2551.706774     0.768049  2551.45735 ]\t[-10000.            2.            0.023939]\t[     0.949874      6.        10000.      ]\n",
      "7  \t67    \t[-699.133356    3.5       700.048127]   \t[ 2551.70793      0.781025  2551.456961]\t[-10000.            2.            0.024565]\t[     0.949874      6.        10000.      ]\n",
      "8  \t57    \t[-799.135408    3.79      800.047027]   \t[ 2713.186948     0.604897  2712.918126]\t[-10000.            2.            0.024565]\t[     0.949874      5.        10000.      ]\n",
      "9  \t67    \t[-999.149557    3.96     1000.045262]   \t[ 3000.283481     0.527636  2999.984913]\t[-10000.            2.            0.036395]\t[     0.949874      5.        10000.      ]\n",
      "Features: Index(['flavanoids', 'proanthocyanins', 'color_intensity', 'proline'], dtype='object')\n"
     ]
    }
   ],
   "source": [
    "#data = pd.read_csv()\n",
    "data = load_wine()\n",
    "\n",
    "df = pd.DataFrame(data.data, columns=data.feature_names)\n",
    "df['target'] = data.target\n",
    "#Sacamos del dataset el valor que quieremos obtener\n",
    "x = df.drop(['target'], axis=1)\n",
    "#Lo pasamos como la columna y (resultado esperado)\n",
    "y = df['target'].astype(float)\n",
    "\n",
    "estimador = DecisionTreeClassifier()\n",
    "modelo = GeneticSelectionCV(\n",
    "    estimator=estimador, #Como estimamos el valor de cada caracteristica\n",
    "    cv=4, #\n",
    "    verbose=1,\n",
    "    scoring=\"accuracy\",\n",
    "    max_features=4, #tam maximo de carácteristicas que podemos tomar\n",
    "    n_population=100, #cantidad de poblacion\n",
    "    crossover_proba=0.5, #probabilidad de que crucen\n",
    "    mutation_proba=0.3, #probabilidad de que elementos muten\n",
    "    n_generations=50, #total generaciones\n",
    "    crossover_independent_proba=0.5, #probabilidad de que crucen pero con elementos aleatoreos\n",
    "    mutation_independent_proba=0.04, #probabilidad de que elementos muten\n",
    "    tournament_size=3, #tamaño de la seleccion\n",
    "    n_gen_no_change=5, #numero de genes sin mutar que se introducen en la new gen\n",
    "    caching=True,\n",
    "    n_jobs=1 #cantidad de workers que van a correr el proceso (en este caso -1 es el maximo por hardware)\n",
    ")\n",
    "modelo = modelo.fit(x,y)\n",
    "print('Features:', x.columns[modelo.support_])"
   ]
  }
 ],
 "metadata": {
  "kernelspec": {
   "display_name": "example",
   "language": "python",
   "name": "python3"
  },
  "language_info": {
   "codemirror_mode": {
    "name": "ipython",
    "version": 3
   },
   "file_extension": ".py",
   "mimetype": "text/x-python",
   "name": "python",
   "nbconvert_exporter": "python",
   "pygments_lexer": "ipython3",
   "version": "3.10.12"
  }
 },
 "nbformat": 4,
 "nbformat_minor": 2
}
