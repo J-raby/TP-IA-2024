{
 "cells": [
  {
   "cell_type": "code",
   "execution_count": 1,
   "metadata": {},
   "outputs": [
    {
     "name": "stdout",
     "output_type": "stream",
     "text": [
      "Requirement already satisfied: scikit-learn in /home/jraby/Faculad/4to/inteli_artificial/Tps/Tp3/.venv/lib/python3.10/site-packages (1.5.0)\n",
      "Requirement already satisfied: numpy>=1.19.5 in /home/jraby/Faculad/4to/inteli_artificial/Tps/Tp3/.venv/lib/python3.10/site-packages (from scikit-learn) (1.26.4)\n",
      "Requirement already satisfied: scipy>=1.6.0 in /home/jraby/Faculad/4to/inteli_artificial/Tps/Tp3/.venv/lib/python3.10/site-packages (from scikit-learn) (1.13.0)\n",
      "Requirement already satisfied: joblib>=1.2.0 in /home/jraby/Faculad/4to/inteli_artificial/Tps/Tp3/.venv/lib/python3.10/site-packages (from scikit-learn) (1.4.2)\n",
      "Requirement already satisfied: threadpoolctl>=3.1.0 in /home/jraby/Faculad/4to/inteli_artificial/Tps/Tp3/.venv/lib/python3.10/site-packages (from scikit-learn) (3.5.0)\n",
      "Note: you may need to restart the kernel to use updated packages.\n",
      "Requirement already satisfied: pandas in /home/jraby/Faculad/4to/inteli_artificial/Tps/Tp3/.venv/lib/python3.10/site-packages (2.2.2)\n",
      "Requirement already satisfied: numpy>=1.22.4 in /home/jraby/Faculad/4to/inteli_artificial/Tps/Tp3/.venv/lib/python3.10/site-packages (from pandas) (1.26.4)\n",
      "Requirement already satisfied: python-dateutil>=2.8.2 in /home/jraby/Faculad/4to/inteli_artificial/Tps/Tp3/.venv/lib/python3.10/site-packages (from pandas) (2.9.0.post0)\n",
      "Requirement already satisfied: pytz>=2020.1 in /home/jraby/Faculad/4to/inteli_artificial/Tps/Tp3/.venv/lib/python3.10/site-packages (from pandas) (2024.1)\n",
      "Requirement already satisfied: tzdata>=2022.7 in /home/jraby/Faculad/4to/inteli_artificial/Tps/Tp3/.venv/lib/python3.10/site-packages (from pandas) (2024.1)\n",
      "Requirement already satisfied: six>=1.5 in /home/jraby/Faculad/4to/inteli_artificial/Tps/Tp3/.venv/lib/python3.10/site-packages (from python-dateutil>=2.8.2->pandas) (1.16.0)\n",
      "Note: you may need to restart the kernel to use updated packages.\n",
      "Requirement already satisfied: sklearn-genetic in /home/jraby/Faculad/4to/inteli_artificial/Tps/Tp3/.venv/lib/python3.10/site-packages (0.6.0)\n",
      "Requirement already satisfied: scikit-learn>=1.0 in /home/jraby/Faculad/4to/inteli_artificial/Tps/Tp3/.venv/lib/python3.10/site-packages (from sklearn-genetic) (1.5.0)\n",
      "Requirement already satisfied: deap>=1.0.2 in /home/jraby/Faculad/4to/inteli_artificial/Tps/Tp3/.venv/lib/python3.10/site-packages (from sklearn-genetic) (1.4.1)\n",
      "Requirement already satisfied: numpy in /home/jraby/Faculad/4to/inteli_artificial/Tps/Tp3/.venv/lib/python3.10/site-packages (from sklearn-genetic) (1.26.4)\n",
      "Requirement already satisfied: multiprocess in /home/jraby/Faculad/4to/inteli_artificial/Tps/Tp3/.venv/lib/python3.10/site-packages (from sklearn-genetic) (0.70.16)\n",
      "Requirement already satisfied: scipy>=1.6.0 in /home/jraby/Faculad/4to/inteli_artificial/Tps/Tp3/.venv/lib/python3.10/site-packages (from scikit-learn>=1.0->sklearn-genetic) (1.13.0)\n",
      "Requirement already satisfied: joblib>=1.2.0 in /home/jraby/Faculad/4to/inteli_artificial/Tps/Tp3/.venv/lib/python3.10/site-packages (from scikit-learn>=1.0->sklearn-genetic) (1.4.2)\n",
      "Requirement already satisfied: threadpoolctl>=3.1.0 in /home/jraby/Faculad/4to/inteli_artificial/Tps/Tp3/.venv/lib/python3.10/site-packages (from scikit-learn>=1.0->sklearn-genetic) (3.5.0)\n",
      "Requirement already satisfied: dill>=0.3.8 in /home/jraby/Faculad/4to/inteli_artificial/Tps/Tp3/.venv/lib/python3.10/site-packages (from multiprocess->sklearn-genetic) (0.3.8)\n",
      "Note: you may need to restart the kernel to use updated packages.\n"
     ]
    }
   ],
   "source": [
    "%pip install scikit-learn\n",
    "%pip install pandas\n",
    "%pip install sklearn-genetic"
   ]
  },
  {
   "cell_type": "code",
   "execution_count": 2,
   "metadata": {},
   "outputs": [],
   "source": [
    "from  sklearn.datasets import load_wine\n",
    "from genetic_selection import GeneticSelectionCV # type: ignore\n",
    "from sklearn.tree import DecisionTreeClassifier # type: ignore\n",
    "import pandas as pd # type: ignore\n",
    "import numpy as np"
   ]
  },
  {
   "cell_type": "code",
   "execution_count": 3,
   "metadata": {},
   "outputs": [
    {
     "name": "stdout",
     "output_type": "stream",
     "text": [
      "Selecting features with genetic algorithm.\n",
      "gen\tnevals\tavg                            \tstd                            \tmin                            \tmax                            \n",
      "0  \t100   \t[ 0.71861   2.43      0.058197]\t[ 0.135998  1.15113   0.026487]\t[ 0.393056  1.        0.018187]\t[ 0.92197   4.        0.129841]\n",
      "1  \t60    \t[-499.217193    3.18      500.057846]\t[ 2179.629062     1.033247  2179.436201]\t[-10000.            1.            0.017486]\t[     0.92197      6.       10000.     ]\n",
      "2  \t77    \t[-1599.273843     3.55      1600.045983]\t[ 3666.377477     0.973396  3666.040488]\t[-10000.            1.            0.017486]\t[     0.944066      6.        10000.      ]\n",
      "3  \t57    \t[-599.163867    3.42      600.048523]   \t[ 2375.079663     0.802247  2374.856158]\t[-10000.            2.            0.015195]\t[     0.944066      6.        10000.      ]\n",
      "4  \t69    \t[-999.189912    3.41     1000.042209]   \t[ 3000.27003      0.801187  2999.98593 ]\t[-10000.            1.            0.017486]\t[     0.949747      5.        10000.      ]\n",
      "5  \t66    \t[-1099.183851     3.52      1100.042226]\t[ 3129.184496     0.865794  3128.882725]\t[-10000.            1.            0.019117]\t[     0.949874      6.        10000.      ]\n",
      "6  \t59    \t[-999.164883    3.62     1000.038686]   \t[ 3000.278373     0.745386  2999.987105]\t[-10000.            2.            0.015366]\t[     0.949874      6.        10000.      ]\n",
      "7  \t73    \t[-799.13975     3.69      800.035225]   \t[ 2713.185667     0.744245  2712.921606]\t[-10000.            2.            0.015366]\t[     0.949874      7.        10000.      ]\n",
      "8  \t71    \t[-999.158396    3.81     1000.035967]   \t[ 3000.280535     0.658711  2999.988011]\t[-10000.            2.            0.015366]\t[     0.949874      6.        10000.      ]\n",
      "9  \t63    \t[-1199.174006     3.92      1200.036658]\t[ 3249.92038      0.658483  3249.601825]\t[-10000.            3.            0.024108]\t[     0.949874      6.        10000.      ]\n",
      "10 \t57    \t[-1199.177482     3.84      1200.039047]\t[ 3249.919097     0.703136  3249.600943]\t[-10000.            2.            0.024108]\t[     0.949874      6.        10000.      ]\n",
      "Features: Index(['flavanoids', 'color_intensity', 'proline'], dtype='object')\n"
     ]
    }
   ],
   "source": [
    "#data = pd.read_csv()\n",
    "data = load_wine()\n",
    "\n",
    "df = pd.DataFrame(data.data, columns=data.feature_names)\n",
    "df['target'] = data.target\n",
    "#Sacamos del dataset el valor que quieremos obtener\n",
    "x = df.drop(['target'], axis=1)\n",
    "#Lo pasamos como la columna y (resultado esperado)\n",
    "y = df['target'].astype(float)\n",
    "\n",
    "estimador = DecisionTreeClassifier()\n",
    "modelo = GeneticSelectionCV(\n",
    "    estimator=estimador, cv=4, verbose=1,\n",
    "    scoring=\"accuracy\", max_features=4,\n",
    "    n_population=100, crossover_proba=0.5,\n",
    "    mutation_proba=0.3, n_generations=50,\n",
    "    crossover_independent_proba=0.5,\n",
    "    mutation_independent_proba=0.04,\n",
    "    tournament_size=3, n_gen_no_change=5,\n",
    "    caching=True, n_jobs=-1\n",
    ")\n",
    "modelo = modelo.fit(x,y)\n",
    "print('Features:', x.columns[modelo.support_])"
   ]
  }
 ],
 "metadata": {
  "kernelspec": {
   "display_name": "example",
   "language": "python",
   "name": "python3"
  },
  "language_info": {
   "codemirror_mode": {
    "name": "ipython",
    "version": 3
   },
   "file_extension": ".py",
   "mimetype": "text/x-python",
   "name": "python",
   "nbconvert_exporter": "python",
   "pygments_lexer": "ipython3",
   "version": "3.10.12"
  }
 },
 "nbformat": 4,
 "nbformat_minor": 2
}
