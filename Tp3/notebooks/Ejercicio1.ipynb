{
 "cells": [
  {
   "cell_type": "code",
   "execution_count": null,
   "metadata": {},
   "outputs": [],
   "source": [
    "import random\n",
    "import time"
   ]
  },
  {
   "cell_type": "code",
   "execution_count": null,
   "metadata": {},
   "outputs": [],
   "source": [
    "class Entidad:\n",
    "    OBJETIVO = \"Los algoritmos genéticos sirven para optimizar\"\n",
    "    GENES = '''aábcdeéfghiíjklmnoópqrstuúvwxyzAÁBCDEÉFGHIÍJKLMNOÓP\n",
    "    QRSTUÚVWXYZ 1234567890, .-;:_!\"#%&/()=?@${[]}'''\n",
    "\n",
    "    def __init__(self, prop):\n",
    "        self.prop = prop\n",
    "        self.fitness = self.get_fitness()\n",
    "    \n",
    "    @classmethod\n",
    "    def generar_gen(cls):\n",
    "        return ''.join(random.choices(cls.GENES, k=len(cls.OBJETIVO)))\n",
    "    \n",
    "    def cruzar(self, pareja):\n",
    "        punto1 = random.randint(1, len(self.prop) - 2)\n",
    "        punto2 = random.randint(punto1 + 1, len(self.prop) - 1)\n",
    "        gen1 = self.prop[:punto1] + pareja.prop[punto1:punto2] + self.prop[punto2:]\n",
    "        gen2 = pareja.prop[:punto1] + self.prop[punto1:punto2] + pareja.prop[punto2:]\n",
    "        return [Entidad(gen1), Entidad(gen2)]\n",
    "    \n",
    "    def mutar(self, tasa_mutacion=0.01):\n",
    "        prop_mutada = list(self.prop)\n",
    "        for i in range(len(prop_mutada)):\n",
    "            if random.random() < tasa_mutacion:\n",
    "                prop_mutada[i] = random.choice(self.GENES)\n",
    "        self.prop = ''.join(prop_mutada)\n",
    "        self.fitness = self.get_fitness()\n",
    "    \n",
    "    def get_fitness(self):\n",
    "        return sum(1 for c1, c2 in zip(self.prop, self.OBJETIVO) if c1 != c2)\n"
   ]
  },
  {
   "cell_type": "code",
   "execution_count": null,
   "metadata": {},
   "outputs": [],
   "source": [
    "def generate_poblacion(size):\n",
    "    return [Entidad(Entidad.generar_gen()) for _ in range(size)]\n",
    "\n",
    "def rueda_ruleta(poblacion):\n",
    "    total_fitness = sum(1 / (ind.fitness + 1) for ind in poblacion)\n",
    "    pick = random.uniform(0, total_fitness)\n",
    "    current = 0\n",
    "    for ind in poblacion:\n",
    "        current += 1 / (ind.fitness + 1)\n",
    "        if current > pick:\n",
    "            return ind"
   ]
  },
  {
   "cell_type": "code",
   "execution_count": null,
   "metadata": {},
   "outputs": [],
   "source": [
    "def main():\n",
    "    tamanios_poblaciones = [100,1000,50,200,300,500]\n",
    "    resultados = {}\n",
    "    for tam in tamanios_poblaciones:\n",
    "        start_time = time.time()\n",
    "        poblacion = generate_poblacion(tam)\n",
    "        poblacion.sort(key=lambda x: x.fitness)\n",
    "    \n",
    "        generacion = 0\n",
    "        while poblacion[0].fitness != 0:\n",
    "            nueva_generacion = poblacion[:10]  # Mantener a los mejores 10 individuos (élite)\n",
    "            while len(nueva_generacion) < len(poblacion):\n",
    "                padre = rueda_ruleta(poblacion)\n",
    "                madre = rueda_ruleta(poblacion)\n",
    "                hijos = padre.cruzar(madre)\n",
    "                for hijo in hijos:\n",
    "                    hijo.mutar(tasa_mutacion=0.01)\n",
    "                    nueva_generacion.append(hijo)\n",
    "        \n",
    "            nueva_generacion.sort(key=lambda x: x.fitness)\n",
    "            poblacion = nueva_generacion[:len(poblacion)]\n",
    "        \n",
    "            #print(f\"Generacion {generacion} - mejor fitness: {poblacion[0].fitness} - gen: {poblacion[0].prop}\")\n",
    "            generacion += 1\n",
    "        stop_time = time.time()\n",
    "        resultados[tam] = {\n",
    "            'generations' : generacion,\n",
    "            'tiempo' : stop_time - start_time\n",
    "        }\n",
    "        print(f\"Solución encontrada en la generación {generacion}: {poblacion[0].prop} --- en un tiempo de {stop_time - start_time} usando un tamaño de poblacion de {tam}\" )\n",
    "\n",
    "    print(resultados)\n",
    "\n",
    "    #En base a los distintos tamaños, notamos que entre mas grande es la poblacion mas se tarda en pasar de generacion en generacion, mientras que en poblaciones mas pequeñas\n",
    "    # se usan mas generaciones para llegar al resultado pero el paso es más rápido. Por lo que lo mejor es usar poblaciones pequeñas cuando lo importante es el tiempo y poblaciones\n",
    "    # grandes cuando lo importante es la menor cantidad de generaciones.\n",
    "\n"
   ]
  },
  {
   "cell_type": "code",
   "execution_count": null,
   "metadata": {},
   "outputs": [],
   "source": [
    "if __name__ == \"__main__\":\n",
    "    main()"
   ]
  }
 ],
 "metadata": {
  "kernelspec": {
   "display_name": "example",
   "language": "python",
   "name": "python3"
  },
  "language_info": {
   "name": "python",
   "version": "3.11.4"
  }
 },
 "nbformat": 4,
 "nbformat_minor": 2
}
